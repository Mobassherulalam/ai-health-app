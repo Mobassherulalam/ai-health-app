{
 "cells": [
  {
   "cell_type": "code",
   "execution_count": null,
   "metadata": {
    "executionInfo": {
     "elapsed": 474,
     "status": "ok",
     "timestamp": 1753373601250,
     "user": {
      "displayName": "Umar Aftab",
      "userId": "07956869396390363126"
     },
     "user_tz": -300
    },
    "id": "R2P9MnXcyNzd"
   },
   "outputs": [],
   "source": [
    "import numpy as np\n",
    "import pandas as pd\n",
    "import warnings\n",
    "warnings.filterwarnings('ignore')"
   ]
  },
  {
   "cell_type": "markdown",
   "metadata": {
    "id": "ZZBNrwSbzUI8"
   },
   "source": [
    "# **ECG Dataset**\n"
   ]
  },
  {
   "cell_type": "markdown",
   "metadata": {
    "id": "luMRU3_C4wZY"
   },
   "source": [
    "### **MITBIH**\n"
   ]
  },
  {
   "cell_type": "code",
   "execution_count": null,
   "metadata": {
    "executionInfo": {
     "elapsed": 19661,
     "status": "ok",
     "timestamp": 1753373622572,
     "user": {
      "displayName": "Umar Aftab",
      "userId": "07956869396390363126"
     },
     "user_tz": -300
    },
    "id": "l0ChZAO9yVwR"
   },
   "outputs": [],
   "source": [
    "mitbih_train = pd.read_csv('', header=None)\n",
    "mitbih_test = pd.read_csv('', header=None)"
   ]
  },
  {
   "cell_type": "code",
   "execution_count": null,
   "metadata": {
    "colab": {
     "base_uri": "https://localhost:8080/",
     "height": 272
    },
    "executionInfo": {
     "elapsed": 91,
     "status": "ok",
     "timestamp": 1753373622657,
     "user": {
      "displayName": "Umar Aftab",
      "userId": "07956869396390363126"
     },
     "user_tz": -300
    },
    "id": "jZ3Gu5B7zWlN",
    "outputId": "505913de-2c81-4234-d330-74855c6771b0"
   },
   "outputs": [],
   "source": [
    "mitbih_train = mitbih_train.rename(columns={187: 'target'})\n",
    "mitbih_train['target'].value_counts()"
   ]
  },
  {
   "cell_type": "code",
   "execution_count": null,
   "metadata": {
    "colab": {
     "base_uri": "https://localhost:8080/",
     "height": 272
    },
    "executionInfo": {
     "elapsed": 66,
     "status": "ok",
     "timestamp": 1753373622724,
     "user": {
      "displayName": "Umar Aftab",
      "userId": "07956869396390363126"
     },
     "user_tz": -300
    },
    "id": "7GSZAYy-7cC7",
    "outputId": "3a8af1eb-3f85-462b-cfef-c92de28f89a8"
   },
   "outputs": [],
   "source": [
    "mitbih_test = mitbih_test.rename(columns={187: 'target'})\n",
    "mitbih_test['target'].value_counts()"
   ]
  },
  {
   "cell_type": "code",
   "execution_count": null,
   "metadata": {
    "colab": {
     "base_uri": "https://localhost:8080/"
    },
    "executionInfo": {
     "elapsed": 30,
     "status": "ok",
     "timestamp": 1753373622795,
     "user": {
      "displayName": "Umar Aftab",
      "userId": "07956869396390363126"
     },
     "user_tz": -300
    },
    "id": "T1u2pkOv1Dtt",
    "outputId": "be7156be-2e72-48d8-e64d-31be87c0992e"
   },
   "outputs": [],
   "source": [
    "mitbih_train.info()"
   ]
  },
  {
   "cell_type": "code",
   "execution_count": null,
   "metadata": {
    "colab": {
     "base_uri": "https://localhost:8080/"
    },
    "executionInfo": {
     "elapsed": 71,
     "status": "ok",
     "timestamp": 1753373622874,
     "user": {
      "displayName": "Umar Aftab",
      "userId": "07956869396390363126"
     },
     "user_tz": -300
    },
    "id": "ogLC42Hc7hGk",
    "outputId": "dfaa9707-e575-458f-8430-34e73c09f321"
   },
   "outputs": [],
   "source": [
    "mitbih_test.info()"
   ]
  },
  {
   "cell_type": "code",
   "execution_count": null,
   "metadata": {
    "executionInfo": {
     "elapsed": 13,
     "status": "ok",
     "timestamp": 1753373622881,
     "user": {
      "displayName": "Umar Aftab",
      "userId": "07956869396390363126"
     },
     "user_tz": -300
    },
    "id": "1Wtdyeim5T0P"
   },
   "outputs": [],
   "source": [
    "X_train_mitbih = mitbih_train.iloc[:,0:187]\n",
    "y_train_mitbih = mitbih_train['target']\n",
    "\n",
    "X_test_mitbih = mitbih_test.iloc[:,0:187]\n",
    "y_test_mitbih = mitbih_test['target']"
   ]
  },
  {
   "cell_type": "code",
   "execution_count": null,
   "metadata": {
    "executionInfo": {
     "elapsed": 2006,
     "status": "ok",
     "timestamp": 1753373624883,
     "user": {
      "displayName": "Umar Aftab",
      "userId": "07956869396390363126"
     },
     "user_tz": -300
    },
    "id": "BqV9qinD45xt"
   },
   "outputs": [],
   "source": [
    "from sklearn.preprocessing import StandardScaler\n",
    "scaler = StandardScaler()\n",
    "\n",
    "X_train_scaled_mitbih = scaler.fit_transform(X_train_mitbih)\n",
    "X_test_scaled_mitbih = scaler.fit_transform(X_test_mitbih)"
   ]
  },
  {
   "cell_type": "code",
   "execution_count": null,
   "metadata": {
    "colab": {
     "base_uri": "https://localhost:8080/"
    },
    "executionInfo": {
     "elapsed": 395539,
     "status": "ok",
     "timestamp": 1753374020430,
     "user": {
      "displayName": "Umar Aftab",
      "userId": "07956869396390363126"
     },
     "user_tz": -300
    },
    "id": "zS-lC9vL84_2",
    "outputId": "ed19b37d-c6d1-4833-9b3a-840b416bbd38"
   },
   "outputs": [],
   "source": [
    "from sklearn.decomposition import PCA\n",
    "from sklearn.neighbors import KNeighborsClassifier\n",
    "from sklearn.metrics import accuracy_score\n",
    "\n",
    "knn_accuracies_mitbih = []\n",
    "\n",
    "for i in range(1, 46):\n",
    "    pca = PCA(n_components=i)\n",
    "    X_train_trf_mitbih = pca.fit_transform(X_train_scaled_mitbih)\n",
    "    X_test_trf_mitbih = pca.transform(X_test_scaled_mitbih)\n",
    "\n",
    "    knn = KNeighborsClassifier()\n",
    "\n",
    "    knn.fit(X_train_trf_mitbih, y_train_mitbih)\n",
    "\n",
    "    y_pred_mitbih = knn.predict(X_test_trf_mitbih)\n",
    "\n",
    "    accuracy = accuracy_score(y_test_mitbih,y_pred_mitbih)\n",
    "    knn_accuracies_mitbih.append(accuracy)\n",
    "\n",
    "    print(f'{i} PCA -> Accuracy: {accuracy}, Appended: {knn_accuracies_mitbih[-1]}')"
   ]
  },
  {
   "cell_type": "code",
   "execution_count": null,
   "metadata": {
    "colab": {
     "base_uri": "https://localhost:8080/"
    },
    "executionInfo": {
     "elapsed": 24,
     "status": "ok",
     "timestamp": 1753374020501,
     "user": {
      "displayName": "Umar Aftab",
      "userId": "07956869396390363126"
     },
     "user_tz": -300
    },
    "id": "07-3rYuaIMj3",
    "outputId": "c96f5324-8a05-42e8-cc49-1e2a4047b5f0"
   },
   "outputs": [],
   "source": [
    "knn_accuracies_mitbih"
   ]
  },
  {
   "cell_type": "code",
   "execution_count": null,
   "metadata": {
    "colab": {
     "base_uri": "https://localhost:8080/"
    },
    "executionInfo": {
     "elapsed": 14,
     "status": "ok",
     "timestamp": 1753374020517,
     "user": {
      "displayName": "Umar Aftab",
      "userId": "07956869396390363126"
     },
     "user_tz": -300
    },
    "id": "cwmBsQvr_lQb",
    "outputId": "cc327303-6e38-4901-b9f4-eb1684ec70e6"
   },
   "outputs": [],
   "source": [
    "print('Explaied Variance Ratio: ', pca.explained_variance_ratio_)\n",
    "print('Cummulative Sum of Explained Variance Ratio', np.cumsum(pca.explained_variance_ratio_))"
   ]
  },
  {
   "cell_type": "code",
   "execution_count": null,
   "metadata": {
    "colab": {
     "base_uri": "https://localhost:8080/",
     "height": 891
    },
    "executionInfo": {
     "elapsed": 9961,
     "status": "ok",
     "timestamp": 1753374030483,
     "user": {
      "displayName": "Umar Aftab",
      "userId": "07956869396390363126"
     },
     "user_tz": -300
    },
    "id": "Dpx_9YyaKR7e",
    "outputId": "b2174b64-b4cc-425b-b842-f4ebebc892c2"
   },
   "outputs": [],
   "source": [
    "import matplotlib.pyplot as plt\n",
    "import matplotlib.animation as animation\n",
    "import seaborn as sns\n",
    "from IPython.display import HTML\n",
    "\n",
    "fig, ax = plt.subplots(figsize=(6,4))\n",
    "ax.set_xlim(0, 45)\n",
    "ax.set_ylim(min(knn_accuracies_mitbih) - 0.05, max(knn_accuracies_mitbih) + 0.02)\n",
    "line, = ax.plot([], [], 'b-o', lw=2)\n",
    "ax.set_title('MITBIH Animated KNN Accuracy vs PCA Components')\n",
    "ax.set_xlabel('Number of PCA Components')\n",
    "ax.set_ylabel('Accuracy')\n",
    "ax.grid(True)\n",
    "\n",
    "def init():\n",
    "    line.set_data([], [])\n",
    "    return line,\n",
    "\n",
    "def update(frame):\n",
    "    x = list(range(1, frame + 2))\n",
    "    y = knn_accuracies_mitbih[:frame + 1]\n",
    "    line.set_data(x, y)\n",
    "    return line,\n",
    "\n",
    "ani = animation.FuncAnimation(fig, update, frames=len(knn_accuracies_mitbih), init_func=init,\n",
    "                              blit=True, interval=150, repeat=False)\n",
    "\n",
    "ani.save('', writer='pillow')\n",
    "\n",
    "HTML(ani.to_jshtml())"
   ]
  },
  {
   "cell_type": "code",
   "execution_count": null,
   "metadata": {
    "executionInfo": {
     "elapsed": 17,
     "status": "ok",
     "timestamp": 1753374030529,
     "user": {
      "displayName": "Umar Aftab",
      "userId": "07956869396390363126"
     },
     "user_tz": -300
    },
    "id": "8jbOM7YOMfNw"
   },
   "outputs": [],
   "source": [
    "from imblearn.pipeline import Pipeline\n",
    "from sklearn.model_selection import StratifiedKFold, cross_val_score\n",
    "from sklearn.preprocessing import StandardScaler\n",
    "from sklearn.metrics import make_scorer, f1_score"
   ]
  },
  {
   "cell_type": "code",
   "execution_count": null,
   "metadata": {
    "executionInfo": {
     "elapsed": 8,
     "status": "ok",
     "timestamp": 1753374101479,
     "user": {
      "displayName": "Umar Aftab",
      "userId": "07956869396390363126"
     },
     "user_tz": -300
    },
    "id": "IdUA0254Mezq"
   },
   "outputs": [],
   "source": [
    "scaler = StandardScaler()\n",
    "skf = StratifiedKFold(n_splits=10, shuffle=True, random_state=42)\n",
    "macro_f1 = make_scorer(f1_score, average='macro')"
   ]
  },
  {
   "cell_type": "code",
   "execution_count": null,
   "metadata": {
    "executionInfo": {
     "elapsed": 29,
     "status": "ok",
     "timestamp": 1753374101797,
     "user": {
      "displayName": "Umar Aftab",
      "userId": "07956869396390363126"
     },
     "user_tz": -300
    },
    "id": "FWnpee0bLXQZ"
   },
   "outputs": [],
   "source": [
    "pipe_knn = Pipeline([\n",
    "    ('scaler', StandardScaler()),\n",
    "    ('pca', PCA(n_components=45)),\n",
    "    ('knn', KNeighborsClassifier())\n",
    "])"
   ]
  },
  {
   "cell_type": "code",
   "execution_count": null,
   "metadata": {
    "colab": {
     "base_uri": "https://localhost:8080/"
    },
    "executionInfo": {
     "elapsed": 55363,
     "status": "ok",
     "timestamp": 1753374162962,
     "user": {
      "displayName": "Umar Aftab",
      "userId": "07956869396390363126"
     },
     "user_tz": -300
    },
    "id": "KWv6uL7jL33X",
    "outputId": "2714a0ef-b0e0-4d52-bdfc-7d0e38cde182"
   },
   "outputs": [],
   "source": [
    "print(\"KNN Macro-F1:\")\n",
    "scores_knn = cross_val_score(pipe_knn, X_train_mitbih, y_train_mitbih, cv=skf, scoring=macro_f1)\n",
    "print(scores_knn, scores_knn.mean())"
   ]
  },
  {
   "cell_type": "code",
   "execution_count": null,
   "metadata": {
    "executionInfo": {
     "elapsed": 58,
     "status": "ok",
     "timestamp": 1753374287003,
     "user": {
      "displayName": "Umar Aftab",
      "userId": "07956869396390363126"
     },
     "user_tz": -300
    },
    "id": "Ojup3svrM3j1"
   },
   "outputs": [],
   "source": [
    "from datetime import datetime\n",
    "import joblib\n",
    "\n",
    "metadata_common = {\n",
    "    \"created_at\": datetime.now().strftime(\"%Y-%m-%d %H:%M:%S\"),\n",
    "    \"dataset\": \"MIT-BIH Arrhythmia Dataset\",\n",
    "    \"cv_folds\": 10,\n",
    "    \"scoring\": \"Macro-F1\",\n",
    "    \"preprocessing\": [\"StandardScaler\", \"PCA-45\"],\n",
    "}"
   ]
  },
  {
   "cell_type": "code",
   "execution_count": null,
   "metadata": {
    "colab": {
     "base_uri": "https://localhost:8080/",
     "height": 195
    },
    "executionInfo": {
     "elapsed": 563,
     "status": "ok",
     "timestamp": 1753374290193,
     "user": {
      "displayName": "Umar Aftab",
      "userId": "07956869396390363126"
     },
     "user_tz": -300
    },
    "id": "0o-lhryDLdKP",
    "outputId": "c72b152c-d666-4949-8659-c87fb6f8b681"
   },
   "outputs": [],
   "source": [
    "pipe_knn.fit(X_train_scaled_mitbih, y_train_mitbih)"
   ]
  },
  {
   "cell_type": "code",
   "execution_count": null,
   "metadata": {
    "colab": {
     "base_uri": "https://localhost:8080/"
    },
    "executionInfo": {
     "elapsed": 59,
     "status": "ok",
     "timestamp": 1753374296105,
     "user": {
      "displayName": "Umar Aftab",
      "userId": "07956869396390363126"
     },
     "user_tz": -300
    },
    "id": "W2e5nis_LfRJ",
    "outputId": "27853f05-6f8a-42a1-88a1-3adfe6f12e0d"
   },
   "outputs": [],
   "source": [
    "knn_bundle = {\n",
    "    \"pipeline\": pipe_knn,\n",
    "    \"model_type\": \"XGBoostClassifier\",\n",
    "    \"macro_f1_score\": scores_knn.mean(),\n",
    "    **metadata_common\n",
    "}\n",
    "\n",
    "joblib.dump(pipe_knn, '')"
   ]
  },
  {
   "cell_type": "markdown",
   "metadata": {
    "id": "a_MvfVCFW_d-"
   },
   "source": [
    "### **Using XGBoost and Random Forest**\n"
   ]
  },
  {
   "cell_type": "code",
   "execution_count": null,
   "metadata": {
    "id": "Fy4cqqu8gTcB"
   },
   "outputs": [],
   "source": [
    "from sklearn.model_selection import StratifiedKFold, cross_val_score\n",
    "from sklearn.preprocessing import StandardScaler\n",
    "from sklearn.ensemble import RandomForestClassifier\n",
    "from xgboost import XGBClassifier\n",
    "from sklearn.metrics import make_scorer, f1_score\n",
    "from imblearn.pipeline import Pipeline\n",
    "from imblearn.over_sampling import SMOTE\n",
    "import torch"
   ]
  },
  {
   "cell_type": "code",
   "execution_count": null,
   "metadata": {
    "id": "OjiBbR3WgYBP"
   },
   "outputs": [],
   "source": [
    "scaler = StandardScaler()\n",
    "skf = StratifiedKFold(n_splits=10, shuffle=True, random_state=42)\n",
    "macro_f1 = make_scorer(f1_score, average='macro')\n",
    "\n",
    "xgb_device = 'cuda' if torch.cuda.is_available() else 'cpu'"
   ]
  },
  {
   "cell_type": "code",
   "execution_count": null,
   "metadata": {
    "id": "teuDoRJDgZmx"
   },
   "outputs": [],
   "source": [
    "pipe_xgb = Pipeline([\n",
    "    ('scale', scaler),\n",
    "    ('smote', SMOTE(sampling_strategy={1: 5000, 3: 1000}, random_state=42)),\n",
    "    ('clf', XGBClassifier(\n",
    "        use_label_encoder=False,\n",
    "        eval_metric='mlogloss',\n",
    "        random_state=42,\n",
    "        tree_method='hist',\n",
    "        device=xgb_device\n",
    "    ))\n",
    "])"
   ]
  },
  {
   "cell_type": "code",
   "execution_count": null,
   "metadata": {
    "colab": {
     "base_uri": "https://localhost:8080/"
    },
    "executionInfo": {
     "elapsed": 76980,
     "status": "ok",
     "timestamp": 1752996805905,
     "user": {
      "displayName": "Umar Aftab",
      "userId": "07956869396390363126"
     },
     "user_tz": -300
    },
    "id": "RllilcLhgg0o",
    "outputId": "4c127ba1-5bc0-4fe3-f6c3-2aa4975bc9a2"
   },
   "outputs": [],
   "source": [
    "print(\"XGBoost Macro-F1:\")\n",
    "scores_xgb = cross_val_score(pipe_xgb, X_train_mitbih, y_train_mitbih, cv=skf, scoring=macro_f1)\n",
    "print(scores_xgb, scores_xgb.mean())"
   ]
  },
  {
   "cell_type": "code",
   "execution_count": null,
   "metadata": {
    "id": "QI1Mid4rgcdU"
   },
   "outputs": [],
   "source": [
    "pipe_rf = Pipeline([\n",
    "    ('scale', StandardScaler()),\n",
    "    ('smote', SMOTE(sampling_strategy={1: 5000, 3: 1000}, random_state=42)),\n",
    "    ('clf', RandomForestClassifier(\n",
    "        n_estimators=100,\n",
    "        random_state=42,\n",
    "        n_jobs=-1\n",
    "    ))\n",
    "])"
   ]
  },
  {
   "cell_type": "code",
   "execution_count": null,
   "metadata": {
    "colab": {
     "base_uri": "https://localhost:8080/"
    },
    "executionInfo": {
     "elapsed": 1135716,
     "status": "ok",
     "timestamp": 1752997941604,
     "user": {
      "displayName": "Umar Aftab",
      "userId": "07956869396390363126"
     },
     "user_tz": -300
    },
    "id": "U2jXbXCOgi5F",
    "outputId": "31dd121e-a56f-43c6-ca44-0e70bb973bca"
   },
   "outputs": [],
   "source": [
    "print(\"RandomForest Macro-F1:\")\n",
    "scores_rf = cross_val_score(pipe_rf, X_train_mitbih, y_train_mitbih, cv=skf, scoring=macro_f1)\n",
    "print(scores_rf, scores_rf.mean())"
   ]
  },
  {
   "cell_type": "code",
   "execution_count": null,
   "metadata": {
    "id": "BJxFoQu8wBL3"
   },
   "outputs": [],
   "source": [
    "from datetime import datetime\n",
    "import joblib\n",
    "\n",
    "metadata_common = {\n",
    "    \"created_at\": datetime.now().strftime(\"%Y-%m-%d %H:%M:%S\"),\n",
    "    \"dataset\": \"MIT-BIH Arrhythmia Dataset\",\n",
    "    \"sampling_strategy\": {1: 5000, 3: 1000},\n",
    "    \"cv_folds\": 10,\n",
    "    \"scoring\": \"Macro-F1\",\n",
    "    \"preprocessing\": [\"StandardScaler\", \"SMOTE\"],\n",
    "}"
   ]
  },
  {
   "cell_type": "code",
   "execution_count": null,
   "metadata": {
    "colab": {
     "base_uri": "https://localhost:8080/",
     "height": 194
    },
    "executionInfo": {
     "elapsed": 7739,
     "status": "ok",
     "timestamp": 1752998098543,
     "user": {
      "displayName": "Umar Aftab",
      "userId": "07956869396390363126"
     },
     "user_tz": -300
    },
    "id": "WTaplvmpv-Nw",
    "outputId": "1bd940b7-2be4-41af-dc1b-7a330421ae04"
   },
   "outputs": [],
   "source": [
    "pipe_xgb.fit(X_train_mitbih, y_train_mitbih)"
   ]
  },
  {
   "cell_type": "code",
   "execution_count": null,
   "metadata": {
    "colab": {
     "base_uri": "https://localhost:8080/"
    },
    "executionInfo": {
     "elapsed": 58,
     "status": "ok",
     "timestamp": 1752998165975,
     "user": {
      "displayName": "Umar Aftab",
      "userId": "07956869396390363126"
     },
     "user_tz": -300
    },
    "id": "jwj5PlNsv_f_",
    "outputId": "e7faa1ff-60f1-4187-c400-f6adbe6afd29"
   },
   "outputs": [],
   "source": [
    "xgb_bundle = {\n",
    "    \"pipeline\": pipe_xgb,\n",
    "    \"model_type\": \"XGBoostClassifier\",\n",
    "    \"macro_f1_score\": scores_xgb.mean(),\n",
    "    **metadata_common\n",
    "}\n",
    "\n",
    "joblib.dump(xgb_bundle, \"\")"
   ]
  },
  {
   "cell_type": "code",
   "execution_count": null,
   "metadata": {
    "colab": {
     "base_uri": "https://localhost:8080/",
     "height": 194
    },
    "executionInfo": {
     "elapsed": 137037,
     "status": "ok",
     "timestamp": 1752998315476,
     "user": {
      "displayName": "Umar Aftab",
      "userId": "07956869396390363126"
     },
     "user_tz": -300
    },
    "id": "Oxn1dyCcv72t",
    "outputId": "5786e43b-5a01-4a62-ce3e-95cabebba69a"
   },
   "outputs": [],
   "source": [
    "pipe_rf.fit(X_train_mitbih, y_train_mitbih)"
   ]
  },
  {
   "cell_type": "code",
   "execution_count": null,
   "metadata": {
    "colab": {
     "base_uri": "https://localhost:8080/"
    },
    "executionInfo": {
     "elapsed": 241,
     "status": "ok",
     "timestamp": 1752998484119,
     "user": {
      "displayName": "Umar Aftab",
      "userId": "07956869396390363126"
     },
     "user_tz": -300
    },
    "id": "9qT7U1scwI5X",
    "outputId": "9122ca70-f2c3-4986-8697-25114c9a174a"
   },
   "outputs": [],
   "source": [
    "rf_bundle = {\n",
    "    \"pipeline\": pipe_rf,\n",
    "    \"model_type\": \"RandomForestClassifier\",\n",
    "    \"macro_f1_score\": scores_rf.mean(),\n",
    "    **metadata_common\n",
    "}\n",
    "\n",
    "joblib.dump(rf_bundle, \"\")"
   ]
  },
  {
   "cell_type": "code",
   "execution_count": null,
   "metadata": {
    "colab": {
     "base_uri": "https://localhost:8080/",
     "height": 564
    },
    "executionInfo": {
     "elapsed": 3334,
     "status": "ok",
     "timestamp": 1752998771184,
     "user": {
      "displayName": "Umar Aftab",
      "userId": "07956869396390363126"
     },
     "user_tz": -300
    },
    "id": "7bQ1MaJtiuUQ",
    "outputId": "8f74f901-bda1-48ca-cbe1-be53acd1317f"
   },
   "outputs": [],
   "source": [
    "import matplotlib.pyplot as plt\n",
    "from matplotlib.animation import FuncAnimation\n",
    "from IPython.display import HTML\n",
    "\n",
    "folds = np.arange(1, 11)\n",
    "\n",
    "mean_xgb = np.mean(scores_xgb)\n",
    "mean_rf = np.mean(scores_rf)\n",
    "\n",
    "fig, ax = plt.subplots(figsize=(10, 6))\n",
    "ax.set_xlim(0.5, 10.5)\n",
    "ax.set_ylim(min(min(scores_xgb), min(scores_rf)) - 0.05, max(max(scores_xgb), max(scores_rf)) + 0.05)\n",
    "ax.set_xlabel('Fold Number')\n",
    "ax.set_ylabel('Macro-F1 Score')\n",
    "ax.set_title('ECG Macro-F1 Scores Across Folds: XGBoost vs RandomForest')\n",
    "ax.set_xticks(folds)\n",
    "ax.grid(True)\n",
    "\n",
    "line_xgb, = ax.plot([], [], 'o-', label='XGBoost', color='blue')\n",
    "line_rf, = ax.plot([], [], 's-', label='RandomForest', color='green')\n",
    "mean_line_xgb = ax.axhline(mean_xgb, color='blue', linestyle='--', alpha=0.5, label='XGBoost Mean')\n",
    "mean_line_rf = ax.axhline(mean_rf, color='green', linestyle='--', alpha=0.5, label='RandomForest Mean')\n",
    "ax.legend()\n",
    "\n",
    "def init():\n",
    "    line_xgb.set_data([], [])\n",
    "    line_rf.set_data([], [])\n",
    "    return line_xgb, line_rf\n",
    "\n",
    "def update(frame):\n",
    "    line_xgb.set_data(folds[:frame+1], scores_xgb[:frame+1])\n",
    "    line_rf.set_data(folds[:frame+1], scores_rf[:frame+1])\n",
    "    return line_xgb, line_rf\n",
    "\n",
    "ani = FuncAnimation(fig, update, frames=len(folds), init_func=init, blit=True, interval=1000)\n",
    "\n",
    "HTML(ani.to_jshtml())\n",
    "ani.save('', writer='pillow')\n",
    "\n",
    "plt.show()"
   ]
  },
  {
   "cell_type": "code",
   "execution_count": null,
   "metadata": {
    "colab": {
     "base_uri": "https://localhost:8080/"
    },
    "executionInfo": {
     "elapsed": 132,
     "status": "ok",
     "timestamp": 1753000248830,
     "user": {
      "displayName": "Umar Aftab",
      "userId": "07956869396390363126"
     },
     "user_tz": -300
    },
    "id": "RwTku6bR85Eq",
    "outputId": "07b1273d-f799-4c43-d79e-b516f8a1cc54"
   },
   "outputs": [],
   "source": [
    "# Load XGBoost\n",
    "xgb_model_bundle = joblib.load(\"\")\n",
    "xgb_pipe = xgb_model_bundle[\"pipeline\"]\n",
    "xgb_meta = {k: v for k, v in xgb_model_bundle.items() if k != \"pipeline\"}\n",
    "\n",
    "# Predict\n",
    "y_pred_xgb = xgb_pipe.predict(X_test_mitbih)\n",
    "\n",
    "# Access Metadata\n",
    "print(\"XGB Metadata:\", xgb_meta)\n"
   ]
  },
  {
   "cell_type": "code",
   "execution_count": null,
   "metadata": {
    "colab": {
     "base_uri": "https://localhost:8080/",
     "height": 807
    },
    "executionInfo": {
     "elapsed": 179,
     "status": "ok",
     "timestamp": 1753001074147,
     "user": {
      "displayName": "Umar Aftab",
      "userId": "07956869396390363126"
     },
     "user_tz": -300
    },
    "id": "7SNgv2fj9SRR",
    "outputId": "a0db1f8a-4a1d-4efc-d66d-ea7acf8a1584"
   },
   "outputs": [],
   "source": [
    "cm_xgb = confusion_matrix(y_test_mitbih, y_pred_xgb)\n",
    "\n",
    "plt.figure(figsize=(8, 6))\n",
    "sns.heatmap(cm_xgb, annot=True, fmt='d', cmap='Blues', cbar=False)\n",
    "plt.xlabel('Predicted Label')\n",
    "plt.ylabel('True Label')\n",
    "plt.title('Confusion Matrix (XGBoost)')\n",
    "plt.show()\n",
    "\n",
    "print(\"\\nClassification Report (XGBoost):\")\n",
    "print(classification_report(y_test_mitbih, y_pred_xgb))"
   ]
  }
 ],
 "metadata": {
  "accelerator": "GPU",
  "colab": {
   "authorship_tag": "ABX9TyO+WqynIWNQQBtnM/okTjua",
   "gpuType": "T4",
   "mount_file_id": "1h5dxreIvnUnCAVmqc7LM2z78Q37_LtLe",
   "provenance": []
  },
  "kernelspec": {
   "display_name": "Python 3",
   "name": "python3"
  },
  "language_info": {
   "name": "python"
  }
 },
 "nbformat": 4,
 "nbformat_minor": 0
}
