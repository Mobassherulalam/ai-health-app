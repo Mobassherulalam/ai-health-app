{
 "cells": [
  {
   "cell_type": "code",
   "execution_count": null,
   "metadata": {
    "executionInfo": {
     "elapsed": 398,
     "status": "ok",
     "timestamp": 1753024101710,
     "user": {
      "displayName": "Umar Aftab",
      "userId": "07956869396390363126"
     },
     "user_tz": -300
    },
    "id": "tWMPTfJjQYVv"
   },
   "outputs": [],
   "source": [
    "import numpy as np\n",
    "import pandas as pd\n",
    "import warnings\n",
    "warnings.filterwarnings('ignore')"
   ]
  },
  {
   "cell_type": "code",
   "execution_count": null,
   "metadata": {
    "executionInfo": {
     "elapsed": 2587,
     "status": "ok",
     "timestamp": 1753024104310,
     "user": {
      "displayName": "Umar Aftab",
      "userId": "07956869396390363126"
     },
     "user_tz": -300
    },
    "id": "xHOdzn73QTis"
   },
   "outputs": [],
   "source": [
    "vitals = pd.read_csv('')"
   ]
  },
  {
   "cell_type": "code",
   "execution_count": null,
   "metadata": {
    "colab": {
     "base_uri": "https://localhost:8080/"
    },
    "executionInfo": {
     "elapsed": 66,
     "status": "ok",
     "timestamp": 1753024104379,
     "user": {
      "displayName": "Umar Aftab",
      "userId": "07956869396390363126"
     },
     "user_tz": -300
    },
    "id": "K42TqQF4SIs0",
    "outputId": "8aa367fd-1da4-463a-c469-62041f96217f"
   },
   "outputs": [],
   "source": [
    "vitals.info()"
   ]
  },
  {
   "cell_type": "code",
   "execution_count": null,
   "metadata": {
    "colab": {
     "base_uri": "https://localhost:8080/",
     "height": 591
    },
    "executionInfo": {
     "elapsed": 101,
     "status": "ok",
     "timestamp": 1753024104495,
     "user": {
      "displayName": "Umar Aftab",
      "userId": "07956869396390363126"
     },
     "user_tz": -300
    },
    "id": "SNYAu1LjSKZR",
    "outputId": "52d8c0a2-6d73-4c83-abad-05a488f6bd9d"
   },
   "outputs": [],
   "source": [
    "vitals.sample(10)"
   ]
  },
  {
   "cell_type": "code",
   "execution_count": null,
   "metadata": {
    "colab": {
     "base_uri": "https://localhost:8080/",
     "height": 178
    },
    "executionInfo": {
     "elapsed": 71,
     "status": "ok",
     "timestamp": 1753024192763,
     "user": {
      "displayName": "Umar Aftab",
      "userId": "07956869396390363126"
     },
     "user_tz": -300
    },
    "id": "TpyRVHLLYirw",
    "outputId": "28323b71-f8f4-4fb6-9d2c-fbdeae077fa7"
   },
   "outputs": [],
   "source": [
    "vitals['Risk Category'].value_counts()"
   ]
  },
  {
   "cell_type": "code",
   "execution_count": null,
   "metadata": {
    "executionInfo": {
     "elapsed": 10,
     "status": "ok",
     "timestamp": 1753024104507,
     "user": {
      "displayName": "Umar Aftab",
      "userId": "07956869396390363126"
     },
     "user_tz": -300
    },
    "id": "whIvEfazSPGZ"
   },
   "outputs": [],
   "source": [
    "X = vitals.drop(['Patient ID','Timestamp','Risk Category'], axis=1)\n",
    "y = vitals['Risk Category']"
   ]
  },
  {
   "cell_type": "code",
   "execution_count": null,
   "metadata": {
    "executionInfo": {
     "elapsed": 691,
     "status": "ok",
     "timestamp": 1753024106269,
     "user": {
      "displayName": "Umar Aftab",
      "userId": "07956869396390363126"
     },
     "user_tz": -300
    },
    "id": "SXX6XFGPUv-R"
   },
   "outputs": [],
   "source": [
    "from sklearn.preprocessing import LabelEncoder\n",
    "\n",
    "label_encoder = LabelEncoder()\n",
    "X['Gender'] = label_encoder.fit_transform(X['Gender'])\n",
    "y = label_encoder.fit_transform(y)"
   ]
  },
  {
   "cell_type": "code",
   "execution_count": null,
   "metadata": {
    "colab": {
     "base_uri": "https://localhost:8080/"
    },
    "executionInfo": {
     "elapsed": 9,
     "status": "ok",
     "timestamp": 1753024386758,
     "user": {
      "displayName": "Umar Aftab",
      "userId": "07956869396390363126"
     },
     "user_tz": -300
    },
    "id": "4ky7nTI1VeAT",
    "outputId": "ea56b4cb-40c0-4ac8-921d-d09b7e85a250"
   },
   "outputs": [],
   "source": [
    "print(np.unique_counts(y))"
   ]
  },
  {
   "cell_type": "code",
   "execution_count": null,
   "metadata": {
    "executionInfo": {
     "elapsed": 6,
     "status": "ok",
     "timestamp": 1753024106412,
     "user": {
      "displayName": "Umar Aftab",
      "userId": "07956869396390363126"
     },
     "user_tz": -300
    },
    "id": "sjWfTfIaVTyE"
   },
   "outputs": [],
   "source": [
    "X_dl = X.values.reshape((X.shape[0], X.shape[1], 1))"
   ]
  },
  {
   "cell_type": "code",
   "execution_count": null,
   "metadata": {
    "executionInfo": {
     "elapsed": 403,
     "status": "ok",
     "timestamp": 1753024107464,
     "user": {
      "displayName": "Umar Aftab",
      "userId": "07956869396390363126"
     },
     "user_tz": -300
    },
    "id": "rPXN5p-uSfUQ"
   },
   "outputs": [],
   "source": [
    "from sklearn.model_selection import train_test_split\n",
    "X_train, X_test, y_train, y_test = train_test_split(X_dl, y, test_size=0.3, random_state=42, stratify=y)"
   ]
  },
  {
   "cell_type": "code",
   "execution_count": null,
   "metadata": {
    "executionInfo": {
     "elapsed": 2425,
     "status": "ok",
     "timestamp": 1753024110054,
     "user": {
      "displayName": "Umar Aftab",
      "userId": "07956869396390363126"
     },
     "user_tz": -300
    },
    "id": "AsOrM8hZTeQW"
   },
   "outputs": [],
   "source": [
    "from tensorflow.keras.models import Sequential\n",
    "from tensorflow.keras.layers import Dense, Conv1D, Flatten, MaxPooling1D, Dropout\n",
    "from sklearn.model_selection import train_test_split"
   ]
  },
  {
   "cell_type": "code",
   "execution_count": null,
   "metadata": {
    "colab": {
     "base_uri": "https://localhost:8080/"
    },
    "executionInfo": {
     "elapsed": 777736,
     "status": "ok",
     "timestamp": 1753025269661,
     "user": {
      "displayName": "Umar Aftab",
      "userId": "07956869396390363126"
     },
     "user_tz": -300
    },
    "id": "_qbwprUDTHP_",
    "outputId": "74389d60-4037-4436-955c-0fb47bd168f9"
   },
   "outputs": [],
   "source": [
    "model = Sequential([\n",
    "    Conv1D(32, 3, activation='relu', input_shape=(X.shape[1], 1)),\n",
    "    MaxPooling1D(2),\n",
    "    Dropout(0.2),\n",
    "    Conv1D(64, 3, activation='relu'),\n",
    "    MaxPooling1D(2),\n",
    "    Flatten(),\n",
    "    Dense(64, activation='relu'),\n",
    "    Dropout(0.2),\n",
    "    Dense(1, activation='sigmoid')\n",
    "])\n",
    "\n",
    "model.compile(optimizer='adam', loss='binary_crossentropy', metrics=['accuracy'])\n",
    "\n",
    "history = model.fit(X_train, y_train, epochs=100, batch_size=64, validation_split=0.2)"
   ]
  },
  {
   "cell_type": "code",
   "execution_count": null,
   "metadata": {
    "colab": {
     "base_uri": "https://localhost:8080/"
    },
    "executionInfo": {
     "elapsed": 53,
     "status": "ok",
     "timestamp": 1753025859677,
     "user": {
      "displayName": "Umar Aftab",
      "userId": "07956869396390363126"
     },
     "user_tz": -300
    },
    "id": "xTzKPuG5d277",
    "outputId": "6ac7098d-a9cc-45e6-98b1-38d2f6cd03ef"
   },
   "outputs": [],
   "source": [
    "# Save model in HDF5 format\n",
    "model.save('')\n",
    "print(\"Model saved successfully!\")"
   ]
  },
  {
   "cell_type": "code",
   "execution_count": null,
   "metadata": {
    "colab": {
     "base_uri": "https://localhost:8080/",
     "height": 718,
     "output_embedded_package_id": "1aTU6ZZXSnFiT2DgkP07J2HG3Vd4dJrhy"
    },
    "executionInfo": {
     "elapsed": 28630,
     "status": "ok",
     "timestamp": 1753025652140,
     "user": {
      "displayName": "Umar Aftab",
      "userId": "07956869396390363126"
     },
     "user_tz": -300
    },
    "id": "7KlKdHM2TIFE",
    "outputId": "3db51a74-f7c2-4b45-8d06-94c1f3aaf468"
   },
   "outputs": [],
   "source": [
    "import numpy as np\n",
    "import matplotlib.pyplot as plt\n",
    "from matplotlib.animation import FuncAnimation\n",
    "from IPython.display import HTML\n",
    "\n",
    "# Extract accuracy values from training history\n",
    "train_acc = history.history['accuracy']\n",
    "val_acc = history.history.get('val_accuracy')  # may not exist\n",
    "\n",
    "epochs = np.arange(1, len(train_acc) + 1)\n",
    "mean_train = np.mean(train_acc)\n",
    "mean_val = np.mean(val_acc) if val_acc else None\n",
    "\n",
    "fig, ax = plt.subplots(figsize=(10, 6))\n",
    "ax.set_xlim(0.5, len(epochs) + 0.5)\n",
    "ax.set_ylim(0, 1.05)\n",
    "ax.set_xlabel('Epoch')\n",
    "ax.set_ylabel('Accuracy')\n",
    "ax.set_title('Human Vitals 1D-CNN Accuracy')\n",
    "ax.grid(True)\n",
    "\n",
    "line_train, = ax.plot([], [], label='Train Accuracy', color='blue')\n",
    "line_val, = ax.plot([], [], label='Validation Accuracy', color='green') if val_acc else (None,)\n",
    "mean_line_train = ax.axhline(mean_train, color='blue', linestyle='--', alpha=0.5, label='Train Mean')\n",
    "mean_line_val = ax.axhline(mean_val, color='green', linestyle='--', alpha=0.5, label='Val Mean') if val_acc else None\n",
    "\n",
    "ax.legend()\n",
    "\n",
    "def init():\n",
    "    line_train.set_data([], [])\n",
    "    if val_acc:\n",
    "        line_val.set_data([], [])\n",
    "    return (line_train, line_val) if val_acc else (line_train,)\n",
    "\n",
    "def update(frame):\n",
    "    line_train.set_data(epochs[:frame + 1], train_acc[:frame + 1])\n",
    "    if val_acc:\n",
    "        line_val.set_data(epochs[:frame + 1], val_acc[:frame + 1])\n",
    "        return line_train, line_val\n",
    "    return line_train,\n",
    "\n",
    "ani = FuncAnimation(fig, update, frames=len(epochs), init_func=init, blit=True, interval=100)\n",
    "\n",
    "# Save as GIF or show\n",
    "ani.save('', writer='pillow')\n",
    "\n",
    "plt.close()  # to prevent double plot\n",
    "HTML(ani.to_jshtml())"
   ]
  },
  {
   "cell_type": "code",
   "execution_count": null,
   "metadata": {
    "executionInfo": {
     "elapsed": 156,
     "status": "ok",
     "timestamp": 1753026007974,
     "user": {
      "displayName": "Umar Aftab",
      "userId": "07956869396390363126"
     },
     "user_tz": -300
    },
    "id": "fvRDvWWeVww2"
   },
   "outputs": [],
   "source": [
    "sample = vitals.sample(1)\n",
    "\n",
    "X_sample = sample.drop(['Patient ID','Timestamp','Risk Category'], axis=1)\n",
    "y_sample = sample['Risk Category']"
   ]
  },
  {
   "cell_type": "code",
   "execution_count": null,
   "metadata": {
    "colab": {
     "base_uri": "https://localhost:8080/"
    },
    "executionInfo": {
     "elapsed": 46,
     "status": "ok",
     "timestamp": 1753026008212,
     "user": {
      "displayName": "Umar Aftab",
      "userId": "07956869396390363126"
     },
     "user_tz": -300
    },
    "id": "jRS5IUrAXvuB",
    "outputId": "995a0cef-fee6-4aa4-f257-2f6906c4bae4"
   },
   "outputs": [],
   "source": [
    "print(y_sample)"
   ]
  },
  {
   "cell_type": "code",
   "execution_count": null,
   "metadata": {
    "executionInfo": {
     "elapsed": 12,
     "status": "ok",
     "timestamp": 1753026008254,
     "user": {
      "displayName": "Umar Aftab",
      "userId": "07956869396390363126"
     },
     "user_tz": -300
    },
    "id": "2XE46d4-XlLD"
   },
   "outputs": [],
   "source": [
    "X_sample['Gender'] = label_encoder.fit_transform(X_sample['Gender'])\n",
    "y_sample = label_encoder.fit_transform(y_sample)\n",
    "\n",
    "X_sample_dl = X_sample.values.reshape((X_sample.shape[0], X_sample.shape[1], 1))"
   ]
  },
  {
   "cell_type": "code",
   "execution_count": null,
   "metadata": {
    "colab": {
     "base_uri": "https://localhost:8080/"
    },
    "executionInfo": {
     "elapsed": 71,
     "status": "ok",
     "timestamp": 1753026009076,
     "user": {
      "displayName": "Umar Aftab",
      "userId": "07956869396390363126"
     },
     "user_tz": -300
    },
    "id": "Pssaw9JmWh-Z",
    "outputId": "00a1ccba-b074-4d20-a108-66d20d1443c7"
   },
   "outputs": [],
   "source": [
    "pred_prob = model.predict(X_sample_dl)\n",
    "pred_class = (pred_prob > 0.5).astype(int)\n",
    "\n",
    "print(f\"Prediction Probability: {pred_prob[0][0]:.4f}\")\n",
    "print(\"Risk Category Prediction:\", \"High Risk ⚠️\" if pred_class[0][0] == 0 else \"Low Risk ✅\")"
   ]
  },
  {
   "cell_type": "code",
   "execution_count": null,
   "metadata": {
    "id": "uuPS8IHcX9-W"
   },
   "outputs": [],
   "source": []
  }
 ],
 "metadata": {
  "accelerator": "GPU",
  "colab": {
   "authorship_tag": "ABX9TyNU+1nLwOiqzVwtJ84LJV7U",
   "gpuType": "T4",
   "mount_file_id": "1RmGXLiuBlbX6-mK2I6lytsjePagVFrkK",
   "provenance": []
  },
  "kernelspec": {
   "display_name": "Python 3",
   "name": "python3"
  },
  "language_info": {
   "name": "python"
  }
 },
 "nbformat": 4,
 "nbformat_minor": 0
}
